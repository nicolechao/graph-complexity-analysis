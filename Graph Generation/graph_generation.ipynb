{
 "cells": [
  {
   "cell_type": "markdown",
   "metadata": {},
   "source": [
    "## Graph Generation"
   ]
  },
  {
   "cell_type": "markdown",
   "metadata": {},
   "source": [
    "References:\n",
    "* [Graph generators](https://networkx.github.io/documentation/stable/reference/generators.html)\n",
    "* [Graph Basic Functions/Metrics](https://networkx.github.io/documentation/stable/reference/functions.html)"
   ]
  },
  {
   "cell_type": "markdown",
   "metadata": {},
   "source": [
    "### Load Packages"
   ]
  },
  {
   "cell_type": "code",
   "execution_count": null,
   "metadata": {},
   "outputs": [],
   "source": [
    "import sys\n",
    "import networkx as nx\n",
    "import networkx.generators as nx_gen_graph\n",
    "import pandas as pd\n",
    "import numpy as np\n",
    "import matplotlib.pyplot as plt\n",
    "import seaborn as sns\n",
    "\n",
    "sns.set()\n",
    "sns.set_style(\"whitegrid\")"
   ]
  },
  {
   "cell_type": "markdown",
   "metadata": {},
   "source": [
    "### Prepare Functions for Plotting"
   ]
  },
  {
   "cell_type": "code",
   "execution_count": null,
   "metadata": {},
   "outputs": [],
   "source": [
    "def get_sub_plot(width = 10, height = 6, label_font_size = 14, tick_font_size = 13):\n",
    "    fig, ax = plt.subplots()\n",
    "    fig.set_size_inches(width, height)\n",
    "    ax.tick_params(labelsize = tick_font_size)\n",
    "    ax.set_xlabel(ax.get_xlabel(), fontsize = label_font_size)\n",
    "    ax.set_ylabel(ax.get_ylabel(), fontsize = label_font_size)\n",
    "    return ax\n",
    "\n",
    "def get_sub_plots(n_total_cols, n_cols, label_font_size = 14, tick_font_size = 13):\n",
    "    n_rows = int(n_total_cols / n_cols)\n",
    "    if n_total_cols % n_cols != 0:\n",
    "        n_rows += 1\n",
    "\n",
    "    fig, axes = plt.subplots(nrows = n_rows,\n",
    "                             ncols = n_cols,\n",
    "                             squeeze = False)\n",
    "    \n",
    "    fig.set_size_inches(20, 20 / n_cols * n_rows)\n",
    "    \n",
    "    if n_total_cols % n_cols != 0:\n",
    "        for col in range(n_total_cols % n_cols, n_cols):\n",
    "            fig.delaxes(axes[n_rows - 1][col])\n",
    "\n",
    "    axes = axes.flatten()\n",
    "    \n",
    "    for ax in axes:\n",
    "        ax.tick_params(labelsize = tick_font_size)\n",
    "        ax.set_xlabel(ax.get_xlabel(), fontsize = label_font_size)\n",
    "        ax.set_ylabel(ax.get_ylabel(), fontsize = label_font_size)\n",
    "\n",
    "    return (fig, axes)"
   ]
  },
  {
   "cell_type": "code",
   "execution_count": null,
   "metadata": {},
   "outputs": [],
   "source": [
    "def draw_graph(graph):\n",
    "    ax = get_sub_plot()\n",
    "    nx.draw_networkx(graph, ax = ax)\n",
    "    \n",
    "def draw_graphs(graphs, titles, n_cols = 2):\n",
    "    n_total_cols = len(graphs)\n",
    "    \n",
    "    fig, axes = get_sub_plots(n_total_cols, n_cols)\n",
    "    \n",
    "    for graph, title, ax in zip(graphs, titles, axes):\n",
    "        nx.draw_networkx(graph, ax = ax)\n",
    "        ax.set_title(title, size = 20)\n",
    "                                \n",
    "    fig.tight_layout()    \n",
    "    plt.show()"
   ]
  },
  {
   "cell_type": "markdown",
   "metadata": {},
   "source": [
    "### Prepare Function for Collecting Graph Metrics"
   ]
  },
  {
   "cell_type": "code",
   "execution_count": null,
   "metadata": {},
   "outputs": [],
   "source": [
    "def collect_graph_basic_metrics(graph):\n",
    "    n_nodes = G.number_of_nodes()\n",
    "    n_edges = G.number_of_edges()\n",
    "    degree = nx.degree(G)\n",
    "    density = nx.density(G)\n",
    "    n_self_loops = nx.number_of_selfloops(G)\n",
    "    nodes = G.nodes()\n",
    "    edges = G.edges()\n",
    "    edge_lists = list(nx.generate_edgelist(G))\n",
    "    \n",
    "    return (n_nodes, n_edges, degree, density, n_self_loops, nodes, edges, edge_lists)"
   ]
  },
  {
   "cell_type": "markdown",
   "metadata": {},
   "source": [
    "### Define Function for Generating Different Types of Graph\n",
    "1. Balanced tree\n",
    "2. Barbell graph: two complete graphs connected by a path.\n",
    "3. Binomial tree\n",
    "4. Circulant graph\n",
    "5. Complete graph\n",
    "6. Path graph\n",
    "7. Star graph\n",
    "8. Zachary’s Karate Club Graph"
   ]
  },
  {
   "cell_type": "code",
   "execution_count": null,
   "metadata": {},
   "outputs": [],
   "source": [
    "def gen_graph(graph_type):\n",
    "    if graph_type == \"balanced_tree\":\n",
    "        G = nx_gen_graph.classic.balanced_tree(r = 2, h = 3)\n",
    "    elif graph_type == \"barbell_graph\":\n",
    "        G = nx_gen_graph.classic.barbell_graph(m1 = 4, m2 = 4)\n",
    "    elif graph_type == \"binomial_tree\":\n",
    "        G = nx_gen_graph.classic.binomial_tree(n = 3)\n",
    "    elif graph_type == \"circulant_graph\":\n",
    "        G = nx_gen_graph.classic.circulant_graph(n = 7, offsets = [1])\n",
    "    elif graph_type == \"complete\":\n",
    "        G = nx.complete_graph(7)\n",
    "    elif graph_type == \"path_graph\":\n",
    "        G = nx_gen_graph.classic.path_graph(n = 7)\n",
    "    elif graph_type == \"star_graph\":\n",
    "        G = nx_gen_graph.classic.star_graph(n = 7)\n",
    "    elif graph_type == \"karate_club_graph\":\n",
    "        G = nx.karate_club_graph()\n",
    "    \n",
    "    return G"
   ]
  },
  {
   "cell_type": "markdown",
   "metadata": {},
   "source": [
    "### Generate Graphs for each Type and save to a Directory"
   ]
  },
  {
   "cell_type": "code",
   "execution_count": null,
   "metadata": {},
   "outputs": [],
   "source": [
    "types   = [\"balanced_tree\", \\\n",
    "           \"barbell_graph\", \\\n",
    "           \"binomial_tree\", \\\n",
    "           \"circulant_graph\", \\\n",
    "           \"complete\", \\\n",
    "           \"path_graph\", \\\n",
    "           \"star_graph\", \\\n",
    "           \"karate_club_graph\"\n",
    "          ]\n",
    "\n",
    "metrics = [\"Number of Nodes\", \\\n",
    "           \"Number of Edges\", \\\n",
    "           \"Degree\", \\\n",
    "           \"Density\", \\\n",
    "           \"Number of Selfloops\", \\\n",
    "           \"Nodes\", \\\n",
    "           \"Edges\", \\\n",
    "           \"Edge Lists\"\n",
    "          ]\n",
    "df_columms = [\"Graph Type\"] + metrics\n",
    "\n",
    "df = pd.DataFrame(columns = df_columms)\n",
    "\n",
    "graphs = []\n",
    "for type in types:\n",
    "    G = gen_graph(type)\n",
    "    \n",
    "    _ = collect_graph_basic_metrics(G)\n",
    "    \n",
    "    new_row = {}\n",
    "    for i in range(len(metrics)):\n",
    "        new_row[\"Graph Type\"] = type\n",
    "        new_row[metrics[i]] = _[i]\n",
    "    df = df.append(new_row, ignore_index = True)\n",
    "    \n",
    "    graphs.append(G)"
   ]
  },
  {
   "cell_type": "code",
   "execution_count": null,
   "metadata": {},
   "outputs": [],
   "source": [
    "df"
   ]
  },
  {
   "cell_type": "code",
   "execution_count": null,
   "metadata": {},
   "outputs": [],
   "source": [
    "print(df.info())"
   ]
  },
  {
   "cell_type": "code",
   "execution_count": null,
   "metadata": {},
   "outputs": [],
   "source": [
    "draw_graphs(graphs, types, n_cols = 3)"
   ]
  },
  {
   "cell_type": "code",
   "execution_count": null,
   "metadata": {},
   "outputs": [],
   "source": [
    "# Save dataframe for later EDA\n",
    "df.to_pickle('../Data/graphs.pkl')"
   ]
  }
 ],
 "metadata": {
  "kernelspec": {
   "display_name": "Python 3",
   "language": "python",
   "name": "python3"
  },
  "language_info": {
   "codemirror_mode": {
    "name": "ipython",
    "version": 3
   },
   "file_extension": ".py",
   "mimetype": "text/x-python",
   "name": "python",
   "nbconvert_exporter": "python",
   "pygments_lexer": "ipython3",
   "version": "3.6.8"
  }
 },
 "nbformat": 4,
 "nbformat_minor": 2
}
